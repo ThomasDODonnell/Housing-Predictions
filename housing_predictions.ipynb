{
 "cells": [
  {
   "cell_type": "code",
   "execution_count": 9,
   "metadata": {},
   "outputs": [],
   "source": [
    "import pandas as pd\n",
    "import numpy as np\n",
    "import matplotlib.pyplot as plt \n",
    "from sklearn.model_selection import train_test_split \n",
    "from sklearn.linear_model import LinearRegression \n",
    "from sklearn.metrics import mean_squared_error, mean_absolute_error \n",
    "from sklearn import preprocessing \n",
    "# from sklearn.preprocessing import CategoricalEncoder\n",
    "from category_encoders import BinaryEncoder"
   ]
  },
  {
   "cell_type": "code",
   "execution_count": 10,
   "metadata": {},
   "outputs": [
    {
     "name": "stdout",
     "output_type": "stream",
     "text": [
      "   Id  MSSubClass MSZoning  LotFrontage  LotArea Street Alley LotShape  \\\n",
      "0   1          60       RL         65.0     8450   Pave   NaN      Reg   \n",
      "1   2          20       RL         80.0     9600   Pave   NaN      Reg   \n",
      "2   3          60       RL         68.0    11250   Pave   NaN      IR1   \n",
      "3   4          70       RL         60.0     9550   Pave   NaN      IR1   \n",
      "4   5          60       RL         84.0    14260   Pave   NaN      IR1   \n",
      "\n",
      "  LandContour Utilities  ... PoolArea PoolQC Fence MiscFeature MiscVal MoSold  \\\n",
      "0         Lvl    AllPub  ...        0    NaN   NaN         NaN       0      2   \n",
      "1         Lvl    AllPub  ...        0    NaN   NaN         NaN       0      5   \n",
      "2         Lvl    AllPub  ...        0    NaN   NaN         NaN       0      9   \n",
      "3         Lvl    AllPub  ...        0    NaN   NaN         NaN       0      2   \n",
      "4         Lvl    AllPub  ...        0    NaN   NaN         NaN       0     12   \n",
      "\n",
      "  YrSold  SaleType  SaleCondition  SalePrice  \n",
      "0   2008        WD         Normal     208500  \n",
      "1   2007        WD         Normal     181500  \n",
      "2   2008        WD         Normal     223500  \n",
      "3   2006        WD        Abnorml     140000  \n",
      "4   2008        WD         Normal     250000  \n",
      "\n",
      "[5 rows x 81 columns]\n"
     ]
    }
   ],
   "source": [
    "tdata = pd.read_csv(\"train.csv\")\n",
    "print(tdata.head())"
   ]
  },
  {
   "cell_type": "code",
   "execution_count": 11,
   "metadata": {},
   "outputs": [
    {
     "name": "stdout",
     "output_type": "stream",
     "text": [
      "0         NaN\n",
      "1         NaN\n",
      "2         NaN\n",
      "3         NaN\n",
      "4         NaN\n",
      "        ...  \n",
      "1455      NaN\n",
      "1456    MnPrv\n",
      "1457    GdPrv\n",
      "1458      NaN\n",
      "1459      NaN\n",
      "Name: Fence, Length: 1460, dtype: object\n",
      "MnPrv    157\n",
      "GdPrv     59\n",
      "GdWo      54\n",
      "MnWw      11\n",
      "Name: Fence, dtype: int64\n"
     ]
    }
   ],
   "source": [
    "print(tdata[\"Fence\"])\n",
    "print(tdata[\"Fence\"].value_counts())"
   ]
  },
  {
   "cell_type": "code",
   "execution_count": 12,
   "metadata": {},
   "outputs": [
    {
     "name": "stdout",
     "output_type": "stream",
     "text": [
      "0       0\n",
      "1       0\n",
      "2       0\n",
      "3       0\n",
      "4       0\n",
      "       ..\n",
      "1455    0\n",
      "1456    3\n",
      "1457    4\n",
      "1458    0\n",
      "1459    0\n",
      "Name: Fence, Length: 1460, dtype: int32\n",
      "0    1179\n",
      "3     157\n",
      "4      59\n",
      "2      54\n",
      "1      11\n",
      "Name: Fence, dtype: int64\n",
      "0.5657534246575342\n"
     ]
    }
   ],
   "source": [
    "Fence_dict = {\"GdPrv\":4,\"MnPrv\":3,\"GdWo\":2,\"MnWw\":1,\"NA\":0}\n",
    "tdata[\"Fence\"] = tdata[\"Fence\"].map(Fence_dict).fillna(0).astype(int)\n",
    "print(tdata[\"Fence\"])\n",
    "print(tdata[\"Fence\"].value_counts())\n",
    "print(np.mean(tdata[\"Fence\"]))"
   ]
  },
  {
   "cell_type": "markdown",
   "metadata": {},
   "source": [
    "Ordinal Categories: OverallQual, OverallCond, ExterQual, ExterCond, BsmtQual **, BsmtCond, BsmtExposure, BsmtFinType1, BsmtFinType2, HeatingQC, KitchenQual, Functional, FireplaceQu, GarageFinish, GarageQual, GarageCond, PavedDrive **, PoolQC, Fence"
   ]
  },
  {
   "cell_type": "markdown",
   "metadata": {},
   "source": [
    "Land contour, utilities, LandSlope"
   ]
  },
  {
   "cell_type": "code",
   "execution_count": null,
   "metadata": {},
   "outputs": [],
   "source": []
  },
  {
   "cell_type": "markdown",
   "metadata": {},
   "source": [
    "OverallQual and OverallCond are already on a numbered scale, all the others are not"
   ]
  },
  {
   "cell_type": "code",
   "execution_count": 13,
   "metadata": {},
   "outputs": [],
   "source": [
    "Excellent_to_poor_dict = {\"Ex\": 5, \"Gd\": 4, \"TA\":3, \"Fa\":2, \"Po\":1}\n",
    "Na_to_excellent_dict = {\"Ex\": 5, \"Gd\": 4, \"Ta\":3, \"Fa\":2, \"Po\":1, \"NA\":0}\n",
    "Na_to_gd_dict = {\"Gd\": 4, \"Av\": 3, \"Mn\":2, \"No\":1, \"NA\":0}\n",
    "Bsmt_finish_dict = {\"GLQ\":6,\"ALQ\":5,\"BLQ\":4,\"Rec\":3,\"LwQ\":2,\"Unf\":1,\"NA\":0}\n",
    "Functionality_dict = {\"Typ\":8,\"Min1\":7,\"Min2\":6,\"Mod\":5,\"Maj1\":4,\"Maj2\":3,\"Sev\":2,\"Sal\":1} # should salvage be 0 or 1\n",
    "Garage_fin_dict = {\"Fin\":3,\"RFn\":2,\"Unf\":1,\"NA\":0}\n",
    "Na_to_fa_ex_dict = {\"Ex\": 4, \"Gd\": 3, \"Ta\":2, \"Fa\":1, \"NA\":0}\n",
    "Fence_dict = {\"GdPrv\":4,\"MnPrv\":3,\"GdWo\":2,\"MnWw\":1,\"NA\":0}\n",
    "\n",
    "tdata[\"ExterQual\"] = tdata[\"ExterQual\"].map(Excellent_to_poor_dict).fillna(0).astype(int)\n",
    "tdata[\"ExterCond\"] = tdata[\"ExterCond\"].map(Excellent_to_poor_dict).fillna(0).astype(int)\n",
    "tdata[\"BsmtQual\"] = tdata[\"BsmtQual\"].map(Na_to_excellent_dict).fillna(0).astype(int)\n",
    "tdata[\"BsmtCond\"] = tdata[\"BsmtCond\"].map(Na_to_excellent_dict).fillna(0).astype(int)\n",
    "tdata[\"BsmtExposure\"] = tdata[\"BsmtExposure\"].map(Na_to_gd_dict) # check this way of doing it. There is a no and an NA which might be problematic\n",
    "tdata[\"BsmtFinType1\"] = tdata[\"BsmtFinType1\"].map(Bsmt_finish_dict).fillna(0).astype(int)\n",
    "tdata[\"BsmtFinType2\"] = tdata[\"BsmtFinType2\"].map(Bsmt_finish_dict).fillna(0).astype(int)\n",
    "tdata[\"HeatingQC\"] = tdata[\"HeatingQC\"].map(Excellent_to_poor_dict).fillna(0).astype(int)\n",
    "tdata[\"KitchenQual\"] = tdata[\"KitchenQual\"].map(Excellent_to_poor_dict).fillna(0).astype(int)\n",
    "tdata[\"Functional\"] = tdata[\"Functional\"].map(Functionality_dict).fillna(0).astype(int)\n",
    "tdata[\"FireplaceQu\"] = tdata[\"FireplaceQu\"].map(Na_to_excellent_dict).fillna(0).astype(int)\n",
    "tdata[\"GarageFinish\"] = tdata[\"GarageFinish\"].map(Garage_fin_dict).fillna(0).astype(int)\n",
    "tdata[\"GarageQual\"] = tdata[\"GarageQual\"].map(Na_to_excellent_dict).fillna(0).astype(int)\n",
    "tdata[\"GarageCond\"] = tdata[\"GarageCond\"].map(Na_to_excellent_dict).fillna(0).astype(int)\n",
    "tdata[\"PoolQC\"] = tdata[\"PoolQC\"].map(Na_to_fa_ex_dict).fillna(0).astype(int)\n",
    "tdata[\"Fence\"] = tdata[\"Fence\"].map(Fence_dict).fillna(0).astype(int)\n"
   ]
  },
  {
   "cell_type": "code",
   "execution_count": 14,
   "metadata": {},
   "outputs": [
    {
     "name": "stdout",
     "output_type": "stream",
     "text": [
      "0       Lvl\n",
      "1       Lvl\n",
      "2       Lvl\n",
      "3       Lvl\n",
      "4       Lvl\n",
      "       ... \n",
      "1455    Lvl\n",
      "1456    Lvl\n",
      "1457    Lvl\n",
      "1458    Lvl\n",
      "1459    Lvl\n",
      "Name: LandContour, Length: 1460, dtype: object\n",
      "0       4\n",
      "1       4\n",
      "2       4\n",
      "3       4\n",
      "4       4\n",
      "       ..\n",
      "1455    4\n",
      "1456    4\n",
      "1457    4\n",
      "1458    4\n",
      "1459    4\n",
      "Name: LandContour, Length: 1460, dtype: int32\n"
     ]
    }
   ],
   "source": [
    "print(tdata[\"LandContour\"])\n",
    "Land_contour_dict = {\"Lvl\":4, \"Bnk\":3, \"HLS\":2, \"Low\": 1} #think about whether low should be 1 or 0\n",
    "tdata[\"LandContour\"] = tdata[\"LandContour\"].map(Land_contour_dict).fillna(0).astype(int)\n",
    "print(tdata[\"LandContour\"])\n",
    "\n",
    "Utilities_dict = {\"AllPub\":4,\"NoSewr\":3,\"NoSeWa\":2,\"ELO\":1}\n",
    "tdata[\"Utilities\"] = tdata[\"Utilities\"].map(Utilities_dict).fillna(0).astype(int)\n",
    "\n",
    "slope_dict = {\"Gtl\":3,\"Mod\":2,\"Sev\":1}\n",
    "tdata[\"LandSlope\"] = tdata[\"LandSlope\"].map(slope_dict).fillna(0).astype(int)"
   ]
  },
  {
   "cell_type": "markdown",
   "metadata": {},
   "source": [
    "Nominal Categories: MSSubClass, MSZoning, Street, Alley, LotShape, Utilities, LotConfig, LandSlope, Neighborhood, Condition1, Condition2, BldgType, RoofStyle, RoofMatl"
   ]
  },
  {
   "cell_type": "markdown",
   "metadata": {},
   "source": [
    "Binary Encode\n",
    "\"MSSubClass\", \"MSZoning\", \"Neighborhood\",\"Condition1\",\"Condition2\", \"HouseStyle\", \"RoofMatl\", \"Exterior1st\", \"Exterior2nd\", \"SaleType\"\n",
    "May have to come back later and redo my general rule of thumb was more than 6 to binary encode.\n",
    "It may be good to binary and one hot encode these and observe the differences. Binary encoding can lead to reduced interperability."
   ]
  },
  {
   "cell_type": "code",
   "execution_count": 15,
   "metadata": {},
   "outputs": [
    {
     "name": "stdout",
     "output_type": "stream",
     "text": [
      "   Id  MSSubClass_0  MSSubClass_1  MSSubClass_2  MSSubClass_3  MSZoning_0  \\\n",
      "0   1             0             0             0             1           0   \n",
      "1   2             0             0             1             0           0   \n",
      "2   3             0             0             0             1           0   \n",
      "3   4             0             0             1             1           0   \n",
      "4   5             0             0             0             1           0   \n",
      "\n",
      "   MSZoning_1  MSZoning_2  LotFrontage  LotArea  ... MiscFeature MiscVal  \\\n",
      "0           0           1         65.0     8450  ...         NaN       0   \n",
      "1           0           1         80.0     9600  ...         NaN       0   \n",
      "2           0           1         68.0    11250  ...         NaN       0   \n",
      "3           0           1         60.0     9550  ...         NaN       0   \n",
      "4           0           1         84.0    14260  ...         NaN       0   \n",
      "\n",
      "  MoSold  YrSold  SaleType_0 SaleType_1  SaleType_2  SaleType_3  \\\n",
      "0      2    2008           0          0           0           1   \n",
      "1      5    2007           0          0           0           1   \n",
      "2      9    2008           0          0           0           1   \n",
      "3      2    2006           0          0           0           1   \n",
      "4     12    2008           0          0           0           1   \n",
      "\n",
      "   SaleCondition  SalePrice  \n",
      "0         Normal     208500  \n",
      "1         Normal     181500  \n",
      "2         Normal     223500  \n",
      "3        Abnorml     140000  \n",
      "4         Normal     250000  \n",
      "\n",
      "[5 rows x 112 columns]\n"
     ]
    }
   ],
   "source": [
    "Binary_encode_list = [\"MSSubClass\", \"MSZoning\", \"Neighborhood\",\"Condition1\",\"Condition2\", \"HouseStyle\", \"RoofMatl\", \"Exterior1st\", \"Exterior2nd\", \"SaleType\"]\n",
    "tdata = BinaryEncoder(cols=Binary_encode_list).fit_transform(tdata)\n",
    "\n",
    "print(tdata.head())\n",
    "# CHECK WORK HERE TOMORROW"
   ]
  },
  {
   "cell_type": "markdown",
   "metadata": {},
   "source": [
    "One Hot Encoded: \"Street\", \"Alley\", \"LotShape\", \"LotConfig\", \"BldgType\", \"RoofStyle\", \"MasVnrType\", \"Foundation\", \"Heating\", \"Electrical\", \"GarageType\", \"PavedDrive\", \"MiscFeature\", \"SaleCondition\""
   ]
  },
  {
   "cell_type": "markdown",
   "metadata": {},
   "source": [
    "Figure out what is wrong here"
   ]
  },
  {
   "cell_type": "code",
   "execution_count": 19,
   "metadata": {},
   "outputs": [
    {
     "name": "stdout",
     "output_type": "stream",
     "text": [
      "Street has repeated values as a possible state\n",
      "Alley has repeated values as a possible state\n",
      "LotShape has repeated values as a possible state\n",
      "LotConfig has repeated values as a possible state\n",
      "BldgType has repeated values as a possible state\n",
      "RoofStyle has repeated values as a possible state\n",
      "MasVnrType has repeated values as a possible state\n",
      "Foundation has repeated values as a possible state\n",
      "Heating has repeated values as a possible state\n",
      "Electrical has repeated values as a possible state\n",
      "GarageType has repeated values as a possible state\n",
      "PavedDrive has repeated values as a possible state\n",
      "MiscFeature has repeated values as a possible state\n",
      "SaleCondition has repeated values as a possible state\n"
     ]
    }
   ],
   "source": [
    "one_hot_encode_list = [\"Street\", \"Alley\", \"LotShape\", \"LotConfig\", \"BldgType\", \"RoofStyle\", \"MasVnrType\", \"Foundation\", \"Heating\", \"Electrical\", \"GarageType\", \"PavedDrive\", \"MiscFeature\", \"SaleCondition\"]\n",
    "num = 1\n",
    "for item in one_hot_encode_list:\n",
    "    try:\n",
    "        one_hot_df = pd.get_dummies(tdata[item], prefix=\"dummy\"+str(num), dtype=int)\n",
    "        tdata = tdata.join(one_hot_df)\n",
    "        num+=1\n",
    "    except ValueError:\n",
    "        print(item + \" has repeated values as a possible state\")\n"
   ]
  },
  {
   "cell_type": "code",
   "execution_count": null,
   "metadata": {},
   "outputs": [],
   "source": [
    "print(tdata[\"dummy_Grvl\"])"
   ]
  },
  {
   "cell_type": "markdown",
   "metadata": {},
   "source": [
    "Binary Encoded: Neighborhood, BldgType, HouseStyle, RoofStyle, RoofMatl"
   ]
  },
  {
   "cell_type": "code",
   "execution_count": null,
   "metadata": {},
   "outputs": [],
   "source": []
  },
  {
   "cell_type": "markdown",
   "metadata": {},
   "source": [
    "Boolian Encoded:"
   ]
  },
  {
   "cell_type": "markdown",
   "metadata": {},
   "source": [
    "Numerical Catecories: LotFrontage, LotArea, "
   ]
  },
  {
   "cell_type": "markdown",
   "metadata": {},
   "source": [
    "Time Related Categories: YearBuilt, YearRemodAdd, "
   ]
  }
 ],
 "metadata": {
  "kernelspec": {
   "display_name": "base",
   "language": "python",
   "name": "python3"
  },
  "language_info": {
   "codemirror_mode": {
    "name": "ipython",
    "version": 3
   },
   "file_extension": ".py",
   "mimetype": "text/x-python",
   "name": "python",
   "nbconvert_exporter": "python",
   "pygments_lexer": "ipython3",
   "version": "3.10.11"
  }
 },
 "nbformat": 4,
 "nbformat_minor": 2
}
